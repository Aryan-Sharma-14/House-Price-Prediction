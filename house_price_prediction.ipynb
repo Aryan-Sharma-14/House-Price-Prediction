{
 "cells": [
  {
   "cell_type": "markdown",
   "id": "23c384d8",
   "metadata": {},
   "source": [
    "# 🏡 House Price Prediction\n",
    "This notebook demonstrates house price prediction using **Random Forest Regressor**.\n",
    "We perform EDA, visualization, feature engineering, and model training."
   ]
  },
  {
   "cell_type": "code",
   "execution_count": null,
   "id": "ca0e49c7",
   "metadata": {},
   "outputs": [],
   "source": [
    "\n",
    "import pandas as pd\n",
    "import numpy as np\n",
    "import matplotlib.pyplot as plt\n",
    "import seaborn as sns\n",
    "from sklearn.model_selection import train_test_split\n",
    "from sklearn.ensemble import RandomForestRegressor\n",
    "from sklearn.metrics import mean_absolute_error, r2_score\n",
    "\n",
    "# Load dataset\n",
    "data = pd.read_csv(\"data/house_data.csv\")\n",
    "data.head()\n"
   ]
  },
  {
   "cell_type": "markdown",
   "id": "1bda8e88",
   "metadata": {},
   "source": [
    "## 📊 Exploratory Data Analysis (EDA)"
   ]
  },
  {
   "cell_type": "code",
   "execution_count": null,
   "id": "b7c4c8a1",
   "metadata": {},
   "outputs": [],
   "source": [
    "\n",
    "# Basic statistics\n",
    "print(data.describe())\n",
    "\n",
    "# Distribution of Prices\n",
    "plt.figure(figsize=(8,6))\n",
    "sns.histplot(data[\"Price\"], kde=True)\n",
    "plt.title(\"House Price Distribution\")\n",
    "plt.show()\n",
    "\n",
    "# Correlation heatmap\n",
    "plt.figure(figsize=(8,6))\n",
    "sns.heatmap(data.corr(numeric_only=True), annot=True, cmap=\"coolwarm\")\n",
    "plt.title(\"Correlation Heatmap\")\n",
    "plt.show()\n"
   ]
  },
  {
   "cell_type": "markdown",
   "id": "a86c90b4",
   "metadata": {},
   "source": [
    "## ⚙️ Data Preprocessing"
   ]
  },
  {
   "cell_type": "code",
   "execution_count": null,
   "id": "7c1b82b3",
   "metadata": {},
   "outputs": [],
   "source": [
    "\n",
    "# Encode categorical variables\n",
    "data_encoded = pd.get_dummies(data, columns=[\"Location\"], drop_first=True)\n",
    "\n",
    "# Features and target\n",
    "X = data_encoded.drop(\"Price\", axis=1)\n",
    "y = data_encoded[\"Price\"]\n",
    "\n",
    "# Train-test split\n",
    "X_train, X_test, y_train, y_test = train_test_split(X, y, test_size=0.2, random_state=42)\n"
   ]
  },
  {
   "cell_type": "markdown",
   "id": "35088fb1",
   "metadata": {},
   "source": [
    "## 🤖 Model Training"
   ]
  },
  {
   "cell_type": "code",
   "execution_count": null,
   "id": "80c81325",
   "metadata": {},
   "outputs": [],
   "source": [
    "\n",
    "# Train Random Forest model\n",
    "model = RandomForestRegressor(n_estimators=100, random_state=42)\n",
    "model.fit(X_train, y_train)\n",
    "\n",
    "# Predictions\n",
    "y_pred = model.predict(X_test)\n",
    "\n",
    "# Evaluation\n",
    "mae = mean_absolute_error(y_test, y_pred)\n",
    "r2 = r2_score(y_test, y_pred)\n",
    "\n",
    "print(f\"Mean Absolute Error: {mae:.2f}\")\n",
    "print(f\"R² Score: {r2:.2f}\")\n"
   ]
  },
  {
   "cell_type": "markdown",
   "id": "dd877b9c",
   "metadata": {},
   "source": [
    "## 🔍 Feature Importance"
   ]
  },
  {
   "cell_type": "code",
   "execution_count": null,
   "id": "ce64b9e5",
   "metadata": {},
   "outputs": [],
   "source": [
    "\n",
    "# Feature importance\n",
    "importance = pd.Series(model.feature_importances_, index=X.columns)\n",
    "importance.sort_values(ascending=False).plot(kind='bar', figsize=(8,6))\n",
    "plt.title(\"Feature Importance\")\n",
    "plt.show()\n"
   ]
  },
  {
   "cell_type": "markdown",
   "id": "632d95c6",
   "metadata": {},
   "source": [
    "✅ The model achieves a strong performance with **R² ~0.98** on synthetic data."
   ]
  }
 ],
 "metadata": {},
 "nbformat": 4,
 "nbformat_minor": 5
}
